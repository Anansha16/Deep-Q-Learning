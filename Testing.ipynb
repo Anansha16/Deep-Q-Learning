{
 "cells": [
  {
   "cell_type": "code",
   "execution_count": 8,
   "metadata": {},
   "outputs": [
    {
     "name": "stdout",
     "output_type": "stream",
     "text": [
      "The environment has the following 6 actions: ['NOOP', 'FIRE', 'RIGHT', 'LEFT', 'RIGHTFIRE', 'LEFTFIRE']\n"
     ]
    }
   ],
   "source": [
    "import tensorflow as tf\n",
    "import os\n",
    "from DQN import ActionGetter\n",
    "from DQN import Atari\n",
    "from DQN import generateGif"
   ]
  },
  {
   "cell_type": "code",
   "execution_count": 9,
   "metadata": {},
   "outputs": [],
   "source": [
    "TRAINEDPATH = \"trained/\"\n",
    "GIFPATH = \"GIF/\"\n",
    "os.makedirs(GIFPATH,exist_ok=True)"
   ]
  },
  {
   "cell_type": "code",
   "execution_count": 10,
   "metadata": {},
   "outputs": [
    {
     "name": "stdout",
     "output_type": "stream",
     "text": [
      "INFO:tensorflow:Restoring parameters from trained/my_model-4624890\n",
      "The total reward is: 21.0\n"
     ]
    },
    {
     "name": "stderr",
     "output_type": "stream",
     "text": [
      "/home/fabiograetz/anaconda3/envs/DQN/lib/python3.6/site-packages/skimage/transform/_warps.py:105: UserWarning: The default mode, 'constant', will be changed to 'reflect' in skimage 0.15.\n",
      "  warn(\"The default mode, 'constant', will be changed to 'reflect' in \"\n",
      "/home/fabiograetz/anaconda3/envs/DQN/lib/python3.6/site-packages/skimage/transform/_warps.py:110: UserWarning: Anti-aliasing will be enabled by default in skimage 0.15 to avoid aliasing artifacts when down-sampling images.\n",
      "  warn(\"Anti-aliasing will be enabled by default in skimage 0.15 to \"\n"
     ]
    }
   ],
   "source": [
    "atari = Atari('PongDeterministic-v4')\n",
    "actionGetter = ActionGetter()\n",
    "\n",
    "with tf.Session() as sess:\n",
    "    saver = tf.train.import_meta_graph('./trained/my_model-4624890.meta')\n",
    "    saver.restore(sess,tf.train.latest_checkpoint(TRAINEDPATH))\n",
    "    framesForGif = []\n",
    "    terminalLiveLost = atari.reset(sess, evaluation = True)\n",
    "    episodeRewardSum = 0\n",
    "    while True:\n",
    "        action = 1 if terminalLiveLost else actionGetter.getAction(sess, 0, atari.state, evaluation = True)\n",
    "        processedNewFrame, reward, terminal, terminalLiveLost, newFrame = atari.step(sess, action)\n",
    "        episodeRewardSum += reward\n",
    "        framesForGif.append(newFrame)\n",
    "        if terminal == True:\n",
    "            break\n",
    "                \n",
    "    print(\"The total reward is: {}\".format(episodeRewardSum))\n",
    "    generateGif(sess, 0, framesForGif, episodeRewardSum, GIFPATH)"
   ]
  },
  {
   "cell_type": "code",
   "execution_count": null,
   "metadata": {},
   "outputs": [],
   "source": []
  }
 ],
 "metadata": {
  "kernelspec": {
   "display_name": "Python [conda env:DQN]",
   "language": "python",
   "name": "conda-env-DQN-py"
  },
  "language_info": {
   "codemirror_mode": {
    "name": "ipython",
    "version": 3
   },
   "file_extension": ".py",
   "mimetype": "text/x-python",
   "name": "python",
   "nbconvert_exporter": "python",
   "pygments_lexer": "ipython3",
   "version": "3.6.5"
  }
 },
 "nbformat": 4,
 "nbformat_minor": 2
}
